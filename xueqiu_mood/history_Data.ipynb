{
 "cells": [
  {
   "cell_type": "code",
   "execution_count": 21,
   "metadata": {},
   "outputs": [
    {
     "name": "stdout",
     "output_type": "stream",
     "text": [
      "600098\n",
      "600271\n",
      "600340\n",
      "600578\n",
      "600660\n",
      "600663\n",
      "601607\n",
      "601668\n",
      "601718\n",
      "601866\n",
      "601872\n",
      "601919\n",
      "603993\n",
      "000503\n",
      "000725\n",
      "000728\n",
      "000778\n",
      "000963\n",
      "300104\n"
     ]
    }
   ],
   "source": [
    "import tushare as ts\n",
    "comment_path = \"./comment_part/\"\n",
    "import os\n",
    "import re\n",
    "import codecs\n",
    "fileDir = os.listdir(comment_path)\n",
    "stock_data = {}\n",
    "for filename_fileDir in fileDir:\n",
    "    stock_name = filename_fileDir[-10:-4]\n",
    "    print stock_name\n",
    "    stock_data[stock_name] = ts.get_hist_data(stock_name,start=\"2016-4-01\",end=\"2017-5-01\")"
   ]
  },
  {
   "cell_type": "code",
   "execution_count": 22,
   "metadata": {
    "collapsed": true
   },
   "outputs": [],
   "source": [
    "import cPickle as pickle \n",
    "f1 = file('stock_data.pkl', 'wb') \n",
    "pickle.dump(stock_data, f1, True)\n",
    "f1.close() "
   ]
  },
  {
   "cell_type": "code",
   "execution_count": 24,
   "metadata": {},
   "outputs": [
    {
     "name": "stdout",
     "output_type": "stream",
     "text": [
      "19\n"
     ]
    }
   ],
   "source": [
    "# print len(stock_data)\n",
    "# stock_data = 0\n",
    "f1 = file('stock_data.pkl', 'r') \n",
    "a = pickle.load(f1)\n",
    "f1.close() \n",
    "print len(a)"
   ]
  },
  {
   "cell_type": "code",
   "execution_count": null,
   "metadata": {
    "collapsed": true
   },
   "outputs": [],
   "source": []
  }
 ],
 "metadata": {
  "kernelspec": {
   "display_name": "Python 2",
   "language": "python",
   "name": "python2"
  },
  "language_info": {
   "codemirror_mode": {
    "name": "ipython",
    "version": 3
   },
   "file_extension": ".py",
   "mimetype": "text/x-python",
   "name": "python",
   "nbconvert_exporter": "python",
   "pygments_lexer": "ipython3",
   "version": "3.5.2"
  }
 },
 "nbformat": 4,
 "nbformat_minor": 2
}
