{
 "cells": [
  {
   "cell_type": "code",
   "execution_count": 73,
   "metadata": {
    "collapsed": true
   },
   "outputs": [],
   "source": [
    "#coding:utf-8\n",
    "import jieba  \n",
    "\n",
    "def readLines(filename):\n",
    "    # read txt or csv file\n",
    "    fp = open(filename, 'r')\n",
    "    lines = []\n",
    "    for line in fp.readlines():\n",
    "        line = line.strip()\n",
    "        line = line.decode(\"utf-8\")\n",
    "        lines.append(line)\n",
    "    fp.close()\n",
    "    return lines\n",
    "\n",
    "tingyongci_list = []\n",
    "with open(\"tingyonci.txt\", 'r') as filename:\n",
    "    file_list = filename.readlines()\n",
    "    for line in file_list:\n",
    "#         print line[:-1].decode('gbk').encode('utf-8')\n",
    "        line_utf8=line.replace('\\n','').decode('gbk').encode('utf-8')\n",
    "        tingyongci_list.append(unicode(line_utf8,encoding='utf-8'))\n",
    "        \n",
    "def parseSent(sentence,tingyongci_list):\n",
    "    pop_list = []\n",
    "    seg_list = jieba.cut(sentence)\n",
    "    for i in seg_list:\n",
    "        if not i in tingyongci_list:\n",
    "             pop_list.append(i) #删除停用词\n",
    "    output = ' '.join(pop_list)  # use space to join them\n",
    "    return output\n",
    "\n",
    "\n"
   ]
  },
  {
   "cell_type": "code",
   "execution_count": 75,
   "metadata": {},
   "outputs": [
    {
     "name": "stdout",
     "output_type": "stream",
     "text": [
      "[u'\\u4e0a\\u6d77', u'\\u673a\\u573a', u'SH600009', u' ', u'\\u4e00\\u5b63\\u5ea6', u'\\u84dd\\u7b79', u'\\u884c\\u60c5', u'\\u5916\\u8d44', u'\\u4e70', u'\\u56fd\\u5185', u'\\u516c\\u52df', u'\\u5e72\\u561b', u'\\n']\n",
      "[u'\\u8ddd\\u79bb', u'\\u5ddd\\u6c99', u'\\u516c\\u8def', u'\\u8f83\\u8fd1', u'\\u516c\\u4ea4', u'\\u6307\\u793a', u'\\u8521\\u9646\\u7ebf', u'\\u9ebb\\u70e6', u'\\u5efa\\u8bae', u'\\u8def\\u7ebf', u'\\u623f\\u95f4', u'\\u8f83\\u4e3a\\u7b80\\u5355', u'\\r\\n']\n",
      "[u'\\u6807\\u51c6\\u95f4', u'\\u592a', u'\\u5dee', u' ', u'\\u623f\\u95f4', u'\\u661f', u' ', u'\\u8bbe\\u65bd', u'\\u9648\\u65e7', u'\\u5efa\\u8bae', u'\\u9152\\u5e97', u'\\u6807\\u51c6\\u95f4', u'\\u65b0', u'\\u6539\\u5584', u'\\r\\n']\n"
     ]
    }
   ],
   "source": [
    "#coding:utf-8\n",
    "\n",
    "# import os\n",
    "# import re\n",
    "# import codecs\n",
    "# fileDir = os.listdir(\"./comment\")\n",
    "# csvfile = codecs.open(\"corpus.csv\", 'w', 'utf-8').close()\n",
    "# csvfile = codecs.open(\"corpus_1.csv\", 'w', 'utf-8')\n",
    "# for file in fileDir:\n",
    "#     with open(\"./comment/%s\" % file, \"r\") as txtfile:\n",
    "#         for line in txtfile:\n",
    "#             segSent = parseSent(line.split('[,,,,,,]')[1],tingyongci_list)\n",
    "#             csvfile.write(\"%s\" % segSent)\n",
    "#             break\n",
    "#     break\n",
    "            \n",
    "# fileDir = os.listdir(\"./pos\") #pos\n",
    "# # csvfile = codecs.open(\"corpus.csv\", 'a', 'utf-8')\n",
    "# for file in fileDir:\n",
    "#     with open(\"./pos/%s\" % file, \"r\") as txtfile:\n",
    "#         for line in txtfile:\n",
    "#             segSent = parseSent(line,tingyongci_list)\n",
    "#             csvfile.write(\"%s\" % segSent)\n",
    "#             break\n",
    "#     break\n",
    "            \n",
    "# fileDir = os.listdir(\"./neg\") #neg\n",
    "# # csvfile = codecs.open(\"corpus.csv\", 'w', 'utf-8')\n",
    "# for file in fileDir:\n",
    "#     with open(\"./neg/%s\" % file, \"r\") as txtfile:\n",
    "#         for line in txtfile:\n",
    "#             segSent = parseSent(line,tingyongci_list)\n",
    "#             csvfile.write(\"%s\" % segSent)\n",
    "#             break\n",
    "#     break\n",
    "# csvfile.close()"
   ]
  },
  {
   "cell_type": "code",
   "execution_count": 59,
   "metadata": {
    "collapsed": true
   },
   "outputs": [],
   "source": [
    "import os\n",
    "import re\n",
    "import codecs\n",
    "fileDir = os.listdir(\"./comment_part\")\n",
    "csvfile = codecs.open(\"corpus.csv\", 'w', 'utf-8')\n",
    "for file in fileDir:\n",
    "    with open(\"./comment_part/%s\" % file, \"r\") as txtfile:\n",
    "        for line in txtfile:\n",
    "            segSent = parseSent(line.split('[,,,,,,]')[1],tingyongci_list)\n",
    "            print segSent\n",
    "            csvfile.write(\"%s\" % segSent)\n",
    "            break\n",
    "    break\n",
    "            \n",
    "fileDir = os.listdir(\"./pos\") #pos\n",
    "# csvfile = codecs.open(\"corpus.csv\", 'a', 'utf-8')\n",
    "for file in fileDir:\n",
    "    with open(\"./pos/%s\" % file, \"r\") as txtfile:\n",
    "        for line in txtfile:\n",
    "            segSent = parseSent(line,tingyongci_list)\n",
    "            print segSent\n",
    "            csvfile.write(\"%s\" % segSent)\n",
    "            break\n",
    "    break\n",
    "            \n",
    "fileDir = os.listdir(\"./neg\") #neg\n",
    "# csvfile = codecs.open(\"corpus.csv\", 'w', 'utf-8')\n",
    "for file in fileDir:\n",
    "    with open(\"./neg/%s\" % file, \"r\") as txtfile:\n",
    "        for line in txtfile:\n",
    "            segSent = parseSent(line,tingyongci_list)\n",
    "            print segSent\n",
    "            csvfile.write(\"%s\" % segSent)\n",
    "            break\n",
    "    break\n",
    "csvfile.close()"
   ]
  }
 ],
 "metadata": {
  "kernelspec": {
   "display_name": "Python 2",
   "language": "python",
   "name": "python2"
  },
  "language_info": {
   "codemirror_mode": {
    "name": "ipython",
    "version": 2
   },
   "file_extension": ".py",
   "mimetype": "text/x-python",
   "name": "python",
   "nbconvert_exporter": "python",
   "pygments_lexer": "ipython2",
   "version": "2.7.11"
  }
 },
 "nbformat": 4,
 "nbformat_minor": 2
}
