{
 "cells": [
  {
   "cell_type": "code",
   "execution_count": 14,
   "metadata": {},
   "outputs": [],
   "source": [
    "import numpy as np\n",
    "import sys\n",
    "import re\n",
    "import codecs\n",
    "import os\n",
    "import jieba\n",
    "from gensim.models import word2vec\n",
    "from sklearn.cross_validation import train_test_split\n",
    "from sklearn.externals import joblib\n",
    "from sklearn.preprocessing import scale\n",
    "from sklearn.svm import SVC\n",
    "from sklearn.decomposition import PCA\n",
    "from scipy import stats\n",
    "from keras.models import Sequential\n",
    "from keras.layers import Dense, Dropout, Activation\n",
    "from keras.optimizers import SGD\n",
    "from sklearn.metrics import f1_score\n",
    "from bayes_opt import BayesianOptimization as BO\n",
    "from sklearn.metrics import roc_curve, auc\n",
    "import matplotlib.pyplot as plt\n"
   ]
  },
  {
   "cell_type": "code",
   "execution_count": 4,
   "metadata": {
    "collapsed": true
   },
   "outputs": [],
   "source": [
    "import gensim\n",
    "from gensim.models import word2vec\n",
    "import logging\n",
    "import jieba\n",
    "import numpy as np\n",
    "model = gensim.models.KeyedVectors.load_word2vec_format(\"corpus_xueqiu.model.bin\", binary=True)\n",
    "\n",
    "def getWordVecs(wordList):\n",
    "    vecs = []\n",
    "    for word in wordList:\n",
    "        word = word.replace('\\r\\n', '')\n",
    "        try:\n",
    "            vecs.append(model[word])\n",
    "        except KeyError:\n",
    "            continue\n",
    "    # vecs = np.concatenate(vecs)\n",
    "    return np.array(vecs, dtype = 'float')\n",
    "\n",
    "def tingyongci_list_get():\n",
    "    tingyongci_list = []\n",
    "    with open(\"tingyonci.txt\", 'r') as filename:\n",
    "        file_list = filename.readlines()\n",
    "        for line in file_list:\n",
    "    #         print line[:-1].decode('gbk').encode('utf-8')\n",
    "            line_utf8=line.replace('\\r\\n','').decode('gbk').encode('utf-8')\n",
    "#             print len(line_utf8)\n",
    "            tingyongci_list.append(unicode(line_utf8,encoding='utf-8'))\n",
    "    return tingyongci_list\n",
    "\n",
    "def parseSent(sentence,tingyongci_list):\n",
    "    pop_list = []\n",
    "    seg_list = jieba.cut(sentence)\n",
    "    for i in seg_list:\n",
    "        if not i in tingyongci_list:\n",
    "             pop_list.append(i) #删除停用词\n",
    "    output = ' '.join(pop_list)  # use space to join them\n",
    "    return output\n",
    "\n",
    "\n",
    "def buildVecs(filename,tingyongci_list):\n",
    "    posInput = []\n",
    "    with open(filename, \"rb\") as txtfile:\n",
    "        # print txtfile\n",
    "        for lines in txtfile:\n",
    "            lines_s = lines.split('\\r\\n ')\n",
    "            pop_list = []\n",
    "            for line in lines_s:            \n",
    "                line_s = jieba.cut(line)\n",
    "                for i in line_s:\n",
    "#                     print type(i)\n",
    "                    if not i in tingyongci_list:\n",
    "                         pop_list.append(i) #删除停用词\n",
    "#                 print \" \".join(pop_list)\n",
    "                resultList = getWordVecs(pop_list)\n",
    "                # for each sentence, the mean vector of all its vectors is used to represent this sentence\n",
    "                if len(resultList) != 0:\n",
    "                    resultArray = sum(np.array(resultList))/len(resultList)\n",
    "                    posInput.append(resultArray)\n",
    "    return posInput\n",
    "\n",
    "\n",
    "\n",
    "\n",
    "# negInput = buildVecs('neg.txt')\n",
    "\n",
    "# # use 1 for positive sentiment, 0 for negative\n",
    "# y = np.concatenate((np.ones(len(posInput)), np.zeros(len(negInput))))\n",
    "\n",
    "# X = posInput[:]\n",
    "# for neg in negInput:\n",
    "#     X.append(neg)\n",
    "# X = np.array(X)\n",
    "\n"
   ]
  },
  {
   "cell_type": "code",
   "execution_count": 5,
   "metadata": {
    "scrolled": false
   },
   "outputs": [
    {
     "name": "stderr",
     "output_type": "stream",
     "text": [
      "Building prefix dict from the default dictionary ...\n",
      "Loading model from cache /tmp/jieba.cache\n",
      "Loading model cost 0.705 seconds.\n",
      "Prefix dict has been built succesfully.\n"
     ]
    },
    {
     "name": "stdout",
     "output_type": "stream",
     "text": [
      "400\n"
     ]
    }
   ],
   "source": [
    "tingyongci_list = tingyongci_list_get()\n",
    "posInput = buildVecs('./xueqiu——评论/pos/pos.1.txt',tingyongci_list)\n",
    "print len(posInput[0])"
   ]
  },
  {
   "cell_type": "code",
   "execution_count": 6,
   "metadata": {
    "collapsed": true
   },
   "outputs": [],
   "source": [
    "# import os\n",
    "# import re\n",
    "# import codecs\n",
    "\n",
    "with open(\"pos.txt\",'w') as filename:\n",
    "    fileDir = os.listdir(\"./xueqiu——评论/pos\") #pos\n",
    "    # csvfile = codecs.open(\"corpus.csv\", 'a', 'utf-8')\n",
    "    for file in fileDir:\n",
    "        with open(\"./xueqiu——评论/pos/%s\" % file, \"r\") as txtfile:\n",
    "            for line in txtfile:\n",
    "                filename.write(\"%s\" % line)\n",
    "                break\n",
    "        \n",
    "with open(\"neg.txt\",'w') as filename:         \n",
    "    fileDir = os.listdir(\"./xueqiu——评论/neg\") #neg\n",
    "    # csvfile = codecs.open(\"corpus.csv\", 'w', 'utf-8')\n",
    "    for file in fileDir:\n",
    "        with open(\"./xueqiu——评论/neg/%s\" % file, \"r\") as txtfile:\n",
    "            for line in txtfile:\n",
    "                filename.write(\"%s\" % line)\n",
    "                break\n",
    "\n",
    "\n"
   ]
  },
  {
   "cell_type": "code",
   "execution_count": 7,
   "metadata": {
    "collapsed": true
   },
   "outputs": [],
   "source": [
    "posInput = buildVecs('pos.txt',tingyongci_list)\n",
    "negInput = buildVecs('neg.txt',tingyongci_list)\n",
    "    "
   ]
  },
  {
   "cell_type": "code",
   "execution_count": 8,
   "metadata": {},
   "outputs": [
    {
     "data": {
      "image/png": "[encoded data removed]",
      "text/plain": [
       "<matplotlib.figure.Figure at 0x7f947f795890>"
      ]
     },
     "metadata": {},
     "output_type": "display_data"
    }
   ],
   "source": [
    "\n",
    "y = np.concatenate((np.ones(len(posInput)), np.zeros(len(negInput))))\n",
    "\n",
    "X = posInput[:]\n",
    "for neg in negInput:\n",
    "    X.append(neg)\n",
    "X = np.array(X)\n",
    "X = scale(X)\n",
    "from sklearn.decomposition import PCA\n",
    "\n",
    "pca=PCA(n_components=400)\n",
    "pca.fit(X)\n",
    "plt.figure(1, figsize=(4, 3))\n",
    "plt.clf()\n",
    "plt.axes([.2, .2, .7, .7])\n",
    "plt.plot(pca.explained_variance_, linewidth=2)\n",
    "plt.axis('tight')\n",
    "plt.xlabel('n_components')\n",
    "plt.ylabel('explained_variance_')\n",
    "plt.show()\n",
    "\n",
    "X_reduced = PCA(n_components = 100).fit_transform(X)"
   ]
  },
  {
   "cell_type": "code",
   "execution_count": 9,
   "metadata": {},
   "outputs": [
    {
     "name": "stdout",
     "output_type": "stream",
     "text": [
      "6994\n",
      "2998\n",
      "9992\n"
     ]
    }
   ],
   "source": [
    "print len(posInput)\n",
    "print len(negInput)\n",
    "print len(X)"
   ]
  },
  {
   "cell_type": "code",
   "execution_count": 10,
   "metadata": {},
   "outputs": [
    {
     "name": "stdout",
     "output_type": "stream",
     "text": [
      "5595\n",
      "2398\n",
      "7993 7993\n",
      "1999 1999\n"
     ]
    }
   ],
   "source": [
    "pos_tran_num = int(0.8*len(posInput))\n",
    "neg_tran_num = int(0.8*len(negInput))\n",
    "print pos_tran_num\n",
    "print neg_tran_num\n",
    "x_train_pos = X_reduced[0:pos_tran_num]\n",
    "x_train_neg = X_reduced[int(len(posInput)):(int(len(posInput))+neg_tran_num)]\n",
    "x_test_pos = X_reduced[pos_tran_num:int(len(posInput))]\n",
    "x_test_neg = X_reduced[(int(len(posInput))+neg_tran_num):]\n",
    "X_reduced_train = np.concatenate((x_train_pos,x_train_neg),axis = 0)\n",
    "X_reduced_test = np.concatenate((x_test_pos,x_test_neg),axis = 0)\n",
    "\n",
    "y_train_pos = y[0:pos_tran_num]\n",
    "y_train_neg = y[int(len(posInput)):(int(len(posInput))+neg_tran_num)]\n",
    "y_test_pos = y[pos_tran_num:int(len(posInput))]\n",
    "y_test_neg = y[(int(len(posInput))+neg_tran_num):]\n",
    "y_reduced_train = np.concatenate((y_train_pos,y_train_neg),axis = 0)\n",
    "y_reduced_test = np.concatenate((y_test_pos,y_test_neg),axis = 0)\n",
    "print len(X_reduced_train),len(y_reduced_train)\n",
    "print len(X_reduced_test),len(y_reduced_test)"
   ]
  },
  {
   "cell_type": "code",
   "execution_count": 11,
   "metadata": {},
   "outputs": [
    {
     "name": "stdout",
     "output_type": "stream",
     "text": [
      "7993\n",
      "7993\n",
      "Test Accuracy: 0.79\n"
     ]
    },
    {
     "data": {
      "image/png": "[encoded data removed]",
      "text/plain": [
       "<matplotlib.figure.Figure at 0x7f94b0b6e450>"
      ]
     },
     "metadata": {},
     "output_type": "display_data"
    },
    {
     "data": {
      "text/plain": [
       "['SVC.pkl']"
      ]
     },
     "execution_count": 11,
     "metadata": {},
     "output_type": "execute_result"
    }
   ],
   "source": [
    "# \"\"\"\n",
    "# 2.1 SVM (RBF)\n",
    "#     using training data with 100 dimensions\n",
    "# \"\"\"\n",
    "\n",
    "# X_reduced_train = X[:]\n",
    "# y_reduced_train = y[:]\n",
    "\n",
    "# x_test_pos = X[pos_tran_num:int(len(posInput))]\n",
    "# x_test_neg = X[(int(len(posInput))+neg_tran_num):]\n",
    "# X_reduced_test = np.concatenate((x_test_pos,x_test_neg),axis = 0)\n",
    "# y_test_pos = y[pos_tran_num:int(len(posInput))]\n",
    "# y_test_neg = y[(int(len(posInput))+neg_tran_num):]\n",
    "# y_reduced_test = np.concatenate((y_test_pos,y_test_neg),axis = 0)\n",
    "\n",
    "print len(X_reduced_train)\n",
    "print len(y_reduced_train)\n",
    "\n",
    "clf = SVC(C = 2, probability = True)\n",
    "clf.fit(X_reduced_train, y_reduced_train)\n",
    "\n",
    "print 'Test Accuracy: %.2f'% clf.score(X_reduced_test, y_reduced_test)\n",
    "\n",
    "pred_probas = clf.predict_proba(X_reduced_test)[:,1]\n",
    "# print \"KS value: %f\" % KSmetric(y_reduced_test, pred_probas)[0]\n",
    "\n",
    "# plot ROC curve\n",
    "# AUC = 0.92\n",
    "# KS = 0.7\n",
    "fpr,tpr,_ = roc_curve(y_reduced_test, pred_probas)\n",
    "roc_auc = auc(fpr,tpr)\n",
    "plt.plot(fpr, tpr, label = 'area = %.2f' % roc_auc)\n",
    "plt.plot([0, 1], [0, 1], 'k--')\n",
    "plt.xlim([0.0, 1.0])\n",
    "plt.ylim([0.0, 1.05])\n",
    "plt.legend(loc = 'lower right')\n",
    "plt.show()\n",
    "\n",
    "joblib.dump(clf, \"SVC.pkl\")"
   ]
  },
  {
   "cell_type": "code",
   "execution_count": 38,
   "metadata": {},
   "outputs": [
    {
     "data": {
      "text/plain": [
       "['SVC.pkl']"
      ]
     },
     "execution_count": 38,
     "metadata": {},
     "output_type": "execute_result"
    }
   ],
   "source": [
    "import matplotlib\n",
    "fpr,tpr,_ = roc_curve(y_reduced_test, pred_probas)\n",
    "\n",
    "font_file = \"/usr/share/fonts/SIMYOU.TTF\"\n",
    "font_img_title = matplotlib.font_manager.FontProperties(fname=font_file, weight='bold', size='large')\n",
    "# ax.set_title(u\"断言覆盖率\", fontproperties=font_img_title)\n",
    "\n",
    "roc_auc = auc(fpr,tpr)\n",
    "plt.plot(fpr, tpr, label = 'area = %.2f' % roc_auc)\n",
    "plt.plot([0, 1], [0, 1], 'k--')\n",
    "plt.xlim([0.0, 1.0])\n",
    "plt.ylim([0.0, 1.05])\n",
    "# plt.title(u\"auccuracy of SVM\")\n",
    "plt.title(u\"SVM正确率\", fontproperties=font_img_title)\n",
    "plt.legend(loc = 'lower right')\n",
    "plt.savefig('SVM_acc.emf',format=\"emf\")\n",
    "# plt.show()\n",
    "\n",
    "\n",
    "joblib.dump(clf, \"SVC.pkl\")"
   ]
  },
  {
   "cell_type": "code",
   "execution_count": 20,
   "metadata": {},
   "outputs": [
    {
     "data": {
      "text/plain": [
       "['Classifier_mood.pkl']"
      ]
     },
     "execution_count": 20,
     "metadata": {},
     "output_type": "execute_result"
    }
   ],
   "source": [
    "from sklearn.externals import joblib\n",
    "\n",
    "# save classifier\n",
    "joblib.dump(clf, \"Classifier_mood.pkl\")\n",
    "# load classifier\n",
    "# clf = joblib.load(\"Classifier_mood.pkl\")"
   ]
  },
  {
   "cell_type": "code",
   "execution_count": 13,
   "metadata": {
    "collapsed": true
   },
   "outputs": [],
   "source": []
  },
  {
   "cell_type": "code",
   "execution_count": 14,
   "metadata": {
    "collapsed": true
   },
   "outputs": [],
   "source": []
  },
  {
   "cell_type": "code",
   "execution_count": 15,
   "metadata": {
    "collapsed": true
   },
   "outputs": [],
   "source": []
  },
  {
   "cell_type": "code",
   "execution_count": 16,
   "metadata": {
    "collapsed": true,
    "scrolled": true
   },
   "outputs": [],
   "source": []
  },
  {
   "cell_type": "code",
   "execution_count": 68,
   "metadata": {
    "collapsed": true
   },
   "outputs": [],
   "source": [
    "comment_path = \"./comment_part/\"\n",
    "import os\n",
    "import re\n",
    "import codecs\n",
    "fileDir = os.listdir(comment_path)\n",
    "\n",
    "model_vec = gensim.models.KeyedVectors.load_word2vec_format(\"corpus_xueqiu.model.bin\", binary=True)\n",
    "\n",
    "def getWordVecs(wordList):\n",
    "    vecs = []\n",
    "    for word in wordList:\n",
    "        word = word.replace('\\n', '')\n",
    "        word = word.replace('\\r', '')\n",
    "        try:\n",
    "            vecs.append(model_vec[word])\n",
    "        except KeyError:\n",
    "            continue\n",
    "    # vecs = np.concatenate(vecs)\n",
    "    return np.array(vecs, dtype = 'float')\n",
    "\n",
    "def buildVecs_xueqiu(filename,tingyongci_list):\n",
    "    posInput = [] \n",
    "    time_list = [] \n",
    "    with open(filename, \"rb\") as txtfile:\n",
    "        # print txtfile\n",
    "        for lines in txtfile:\n",
    "            lines_s = lines.split('[,,,,,,]')\n",
    "            pop_list = []\n",
    "            time = lines_s[0]        \n",
    "            line_s = jieba.cut(lines_s[1])\n",
    "            for i in line_s:\n",
    "#                     print type(i)\n",
    "                if not i in tingyongci_list:\n",
    "                    pop_list.append(i) #删除停用词\n",
    "#             print \" \".join(pop_list)\n",
    "            \n",
    "            resultList = getWordVecs(pop_list)\n",
    "                # for each sentence, the mean vector of all its vectors is used to represent this sentence\n",
    "            if len(resultList) != 0:\n",
    "                resultArray = sum(np.array(resultList))/len(resultList)\n",
    "                posInput.append(resultArray)\n",
    "                time_list.append(lines_s[0])\n",
    "    return posInput,time_list\n",
    "\n",
    "def getcomment_time(filename):\n",
    "    time_list = [] \n",
    "    with open(filename, \"rb\") as txtfile:\n",
    "        # print txtfile\n",
    "        for lines in txtfile:\n",
    "            lines_s = lines.split('[,,,,,,]')\n",
    "            pop_list = []\n",
    "            time_list.append(lines_s[0])        \n",
    "    return time_list\n"
   ]
  },
  {
   "cell_type": "code",
   "execution_count": null,
   "metadata": {
    "collapsed": true
   },
   "outputs": [],
   "source": [
    "import time\n",
    "import tushare as ts\n",
    "from sklearn.externals import joblib\n",
    "\n",
    "def get_time_list_order(time_list):\n",
    "    list_order = []\n",
    "    key = [ \"1\",\"2\"]\n",
    "    for i in time_list:\n",
    "        if i not in key:\n",
    "            list_order.append(i)\n",
    "            key.append(i)\n",
    "        else:\n",
    "            continue\n",
    "    return list_order\n",
    "\n",
    "def time_yester(time_str):\n",
    "    return time.strftime('%Y-%m-%d', time.localtime(time.mktime(time.strptime(time_str,'%Y-%m-%d'))-60*60*24))\n",
    "           "
   ]
  },
  {
   "cell_type": "code",
   "execution_count": 81,
   "metadata": {},
   "outputs": [
    {
     "name": "stdout",
     "output_type": "stream",
     "text": [
      "xueqiu_comment_SZ300104.txt\n",
      "300104\n"
     ]
    },
    {
     "name": "stderr",
     "output_type": "stream",
     "text": [
      "/usr/local/lib/python2.7/dist-packages/sklearn/utils/validation.py:395: DeprecationWarning: Passing 1d arrays as data is deprecated in 0.17 and will raise ValueError in 0.19. Reshape your data either using X.reshape(-1, 1) if your data has a single feature or X.reshape(1, -1) if it contains a single sample.\n",
      "  DeprecationWarning)\n"
     ]
    },
    {
     "ename": "ValueError",
     "evalue": "Found array with 0 feature(s) (shape=(1, 0)) while a minimum of 1 is required.",
     "output_type": "error",
     "traceback": [
      "\u001b[0;31m---------------------------------------------------------------------------\u001b[0m",
      "\u001b[0;31mValueError\u001b[0m                                Traceback (most recent call last)",
      "\u001b[0;32m<ipython-input-81-5f60d6a60e98>\u001b[0m in \u001b[0;36m<module>\u001b[0;34m()\u001b[0m\n\u001b[1;32m     65\u001b[0m                 \u001b[0;32mbreak\u001b[0m\u001b[0;34m\u001b[0m\u001b[0m\n\u001b[1;32m     66\u001b[0m     \u001b[0mclf\u001b[0m \u001b[0;34m=\u001b[0m \u001b[0mjoblib\u001b[0m\u001b[0;34m.\u001b[0m\u001b[0mload\u001b[0m\u001b[0;34m(\u001b[0m\u001b[0;34m\"Classifier_mood.pkl\"\u001b[0m\u001b[0;34m)\u001b[0m\u001b[0;34m\u001b[0m\u001b[0m\n\u001b[0;32m---> 67\u001b[0;31m     \u001b[0mpred_probas\u001b[0m \u001b[0;34m=\u001b[0m \u001b[0mclf\u001b[0m\u001b[0;34m.\u001b[0m\u001b[0mpredict_proba\u001b[0m\u001b[0;34m(\u001b[0m\u001b[0mX_xueqiu\u001b[0m\u001b[0;34m)\u001b[0m\u001b[0;34m[\u001b[0m\u001b[0;34m:\u001b[0m\u001b[0;34m,\u001b[0m\u001b[0;36m1\u001b[0m\u001b[0;34m]\u001b[0m\u001b[0;34m\u001b[0m\u001b[0m\n\u001b[0m\u001b[1;32m     68\u001b[0m     \u001b[0mend_time\u001b[0m \u001b[0;34m=\u001b[0m \u001b[0mtime_yester\u001b[0m\u001b[0;34m(\u001b[0m\u001b[0mstock_data\u001b[0m\u001b[0;34m.\u001b[0m\u001b[0mindex\u001b[0m\u001b[0;34m[\u001b[0m\u001b[0;34m-\u001b[0m\u001b[0;36m1\u001b[0m\u001b[0;34m]\u001b[0m\u001b[0;34m)\u001b[0m\u001b[0;34m\u001b[0m\u001b[0m\n\u001b[1;32m     69\u001b[0m     \u001b[0mi_num\u001b[0m \u001b[0;34m=\u001b[0m \u001b[0;36m0\u001b[0m\u001b[0;34m\u001b[0m\u001b[0m\n",
      "\u001b[0;32m/usr/local/lib/python2.7/dist-packages/sklearn/svm/base.pyc\u001b[0m in \u001b[0;36m_predict_proba\u001b[0;34m(self, X)\u001b[0m\n\u001b[1;32m    617\u001b[0m \u001b[0;34m\u001b[0m\u001b[0m\n\u001b[1;32m    618\u001b[0m     \u001b[0;32mdef\u001b[0m \u001b[0m_predict_proba\u001b[0m\u001b[0;34m(\u001b[0m\u001b[0mself\u001b[0m\u001b[0;34m,\u001b[0m \u001b[0mX\u001b[0m\u001b[0;34m)\u001b[0m\u001b[0;34m:\u001b[0m\u001b[0;34m\u001b[0m\u001b[0m\n\u001b[0;32m--> 619\u001b[0;31m         \u001b[0mX\u001b[0m \u001b[0;34m=\u001b[0m \u001b[0mself\u001b[0m\u001b[0;34m.\u001b[0m\u001b[0m_validate_for_predict\u001b[0m\u001b[0;34m(\u001b[0m\u001b[0mX\u001b[0m\u001b[0;34m)\u001b[0m\u001b[0;34m\u001b[0m\u001b[0m\n\u001b[0m\u001b[1;32m    620\u001b[0m         \u001b[0;32mif\u001b[0m \u001b[0mself\u001b[0m\u001b[0;34m.\u001b[0m\u001b[0mprobA_\u001b[0m\u001b[0;34m.\u001b[0m\u001b[0msize\u001b[0m \u001b[0;34m==\u001b[0m \u001b[0;36m0\u001b[0m \u001b[0;32mor\u001b[0m \u001b[0mself\u001b[0m\u001b[0;34m.\u001b[0m\u001b[0mprobB_\u001b[0m\u001b[0;34m.\u001b[0m\u001b[0msize\u001b[0m \u001b[0;34m==\u001b[0m \u001b[0;36m0\u001b[0m\u001b[0;34m:\u001b[0m\u001b[0;34m\u001b[0m\u001b[0m\n\u001b[1;32m    621\u001b[0m             raise NotFittedError(\"predict_proba is not available when fitted \"\n",
      "\u001b[0;32m/usr/local/lib/python2.7/dist-packages/sklearn/svm/base.pyc\u001b[0m in \u001b[0;36m_validate_for_predict\u001b[0;34m(self, X)\u001b[0m\n\u001b[1;32m    457\u001b[0m         \u001b[0mcheck_is_fitted\u001b[0m\u001b[0;34m(\u001b[0m\u001b[0mself\u001b[0m\u001b[0;34m,\u001b[0m \u001b[0;34m'support_'\u001b[0m\u001b[0;34m)\u001b[0m\u001b[0;34m\u001b[0m\u001b[0m\n\u001b[1;32m    458\u001b[0m \u001b[0;34m\u001b[0m\u001b[0m\n\u001b[0;32m--> 459\u001b[0;31m         \u001b[0mX\u001b[0m \u001b[0;34m=\u001b[0m \u001b[0mcheck_array\u001b[0m\u001b[0;34m(\u001b[0m\u001b[0mX\u001b[0m\u001b[0;34m,\u001b[0m \u001b[0maccept_sparse\u001b[0m\u001b[0;34m=\u001b[0m\u001b[0;34m'csr'\u001b[0m\u001b[0;34m,\u001b[0m \u001b[0mdtype\u001b[0m\u001b[0;34m=\u001b[0m\u001b[0mnp\u001b[0m\u001b[0;34m.\u001b[0m\u001b[0mfloat64\u001b[0m\u001b[0;34m,\u001b[0m \u001b[0morder\u001b[0m\u001b[0;34m=\u001b[0m\u001b[0;34m\"C\"\u001b[0m\u001b[0;34m)\u001b[0m\u001b[0;34m\u001b[0m\u001b[0m\n\u001b[0m\u001b[1;32m    460\u001b[0m         \u001b[0;32mif\u001b[0m \u001b[0mself\u001b[0m\u001b[0;34m.\u001b[0m\u001b[0m_sparse\u001b[0m \u001b[0;32mand\u001b[0m \u001b[0;32mnot\u001b[0m \u001b[0msp\u001b[0m\u001b[0;34m.\u001b[0m\u001b[0misspmatrix\u001b[0m\u001b[0;34m(\u001b[0m\u001b[0mX\u001b[0m\u001b[0;34m)\u001b[0m\u001b[0;34m:\u001b[0m\u001b[0;34m\u001b[0m\u001b[0m\n\u001b[1;32m    461\u001b[0m             \u001b[0mX\u001b[0m \u001b[0;34m=\u001b[0m \u001b[0msp\u001b[0m\u001b[0;34m.\u001b[0m\u001b[0mcsr_matrix\u001b[0m\u001b[0;34m(\u001b[0m\u001b[0mX\u001b[0m\u001b[0;34m)\u001b[0m\u001b[0;34m\u001b[0m\u001b[0m\n",
      "\u001b[0;32m/usr/local/lib/python2.7/dist-packages/sklearn/utils/validation.pyc\u001b[0m in \u001b[0;36mcheck_array\u001b[0;34m(array, accept_sparse, dtype, order, copy, force_all_finite, ensure_2d, allow_nd, ensure_min_samples, ensure_min_features, warn_on_dtype, estimator)\u001b[0m\n\u001b[1;32m    422\u001b[0m                              \u001b[0;34m\" a minimum of %d is required%s.\"\u001b[0m\u001b[0;34m\u001b[0m\u001b[0m\n\u001b[1;32m    423\u001b[0m                              % (n_features, shape_repr, ensure_min_features,\n\u001b[0;32m--> 424\u001b[0;31m                                 context))\n\u001b[0m\u001b[1;32m    425\u001b[0m \u001b[0;34m\u001b[0m\u001b[0m\n\u001b[1;32m    426\u001b[0m     \u001b[0;32mif\u001b[0m \u001b[0mwarn_on_dtype\u001b[0m \u001b[0;32mand\u001b[0m \u001b[0mdtype_orig\u001b[0m \u001b[0;32mis\u001b[0m \u001b[0;32mnot\u001b[0m \u001b[0mNone\u001b[0m \u001b[0;32mand\u001b[0m \u001b[0marray\u001b[0m\u001b[0;34m.\u001b[0m\u001b[0mdtype\u001b[0m \u001b[0;34m!=\u001b[0m \u001b[0mdtype_orig\u001b[0m\u001b[0;34m:\u001b[0m\u001b[0;34m\u001b[0m\u001b[0m\n",
      "\u001b[0;31mValueError\u001b[0m: Found array with 0 feature(s) (shape=(1, 0)) while a minimum of 1 is required."
     ]
    }
   ],
   "source": [
    "import pickle\n",
    "# f1 = file('stock_data.pkl', 'r') \n",
    "# load_var = pickle.load(f1)\n",
    "# f1.close() \n",
    "# mood_day_list_dir = np.array([])\n",
    "# wave_day_list_dir = np.array([])\n",
    "for filename_fileDir in [fileDir[18]]:\n",
    "    print filename_fileDir\n",
    "    filename_comment_test = comment_path+filename_fileDir\n",
    "    a,time_list=buildVecs_xueqiu(filename_comment_test,tingyongci_list)\n",
    "#     time_list = getcomment_time(filename_comment_test)\n",
    "    # x = time.localtime(int(time_list[0])/1000.0)\n",
    "    time_date = []\n",
    "    for i in time_list:\n",
    "        x = time.localtime(int(i)/1000.0)\n",
    "        time_date.append(time.strftime('%Y-%m-%d',x))\n",
    "    # print time_date\n",
    "    stock_wave = []\n",
    "    start_time = get_time_list_order(time_date)[0]\n",
    "    end_time =get_time_list_order(time_date)[-1]\n",
    "    stock_name = filename_fileDir[-10:-4]\n",
    "    print stock_name\n",
    "    stock_data = load_var[stock_name]\n",
    "#     stock_data = ts.get_hist_data(stock_name,start=\"2016-4-01\",end=\"2017-5-01\")\n",
    "    # print ts.get_hist_data(stock_name,start=\"2016-4-01\",end=start_time)\n",
    "    for i in range(len(stock_data)):\n",
    "        try:\n",
    "            if stock_data[\"close\"][i] >  stock_data[\"close\"][i+1]:\n",
    "                stock_wave.append(1)\n",
    "            else:\n",
    "                stock_wave.append(0)\n",
    "        except:\n",
    "             stock_wave.append(0)\n",
    "#     print  len(stock_data.index)\n",
    "#     print len(stock_wave)\n",
    "#     stock_data.insert(5,\"stock_wave\",stock_wave)\n",
    "#     print stock_data[\"stock_wave\"][\"2017-03-21\"]\n",
    "#     print len(a[0])\n",
    "    X_xueqiu = []\n",
    "    y_xueqiu = []\n",
    "    # print time_date[0:30]\n",
    "    # print get_time_list_order(time_date)\n",
    "#     end_time = time_yester(stock_data.index[-1])\n",
    "#     for i in range(2):\n",
    "#         end_time = time_yester(end_time)\n",
    "    i_num = 0\n",
    "    for i in time_date:\n",
    "        if i in stock_data.index:\n",
    "            for j in time_date[i_num:]:\n",
    "                if j == i:\n",
    "                    X_xueqiu.append(a[i_num])\n",
    "                    y_xueqiu.append(stock_data[\"stock_wave\"][j])\n",
    "                    i_num += 1\n",
    "        else:\n",
    "            t = i\n",
    "            while t not in stock_data.index and t !=end_time: \n",
    "                t = time_yester(t)\n",
    "            if t in stock_data.index:\n",
    "                for j in time_date[ i_num:]:\n",
    "                    if j ==i:\n",
    "                        X_xueqiu.append(a[i_num])\n",
    "                        y_xueqiu.append(stock_data[\"stock_wave\"][t])\n",
    "                        i_num += 1\n",
    "            else:\n",
    "                break\n",
    "    clf = joblib.load(\"Classifier_mood.pkl\")\n",
    "    pred_probas = clf.predict_proba(X_xueqiu)[:,1]\n",
    "    end_time = time_yester(stock_data.index[-1])\n",
    "    i_num = 0\n",
    "    x_xueqiu_len = len(X_xueqiu)\n",
    "    same_date = \" \"\n",
    "    same_date_list = [ ]\n",
    "    count_i = 0\n",
    "    mood_day_list = []\n",
    "    wave_day_list = []\n",
    "    for i in time_date[:x_xueqiu_len]:\n",
    "        if i != same_date:\n",
    "            if count_i != 0:\n",
    "                same_date_list = np.array(same_date_list)\n",
    "                mood_day_list.append(sum(same_date_list)/len(same_date_list))\n",
    "                if same_date in stock_data.index:\n",
    "                    wave_day_list.append(stock_data[\"stock_wave\"][same_date])\n",
    "                else:\n",
    "                    t = same_date\n",
    "                    while t not in stock_data.index and t !=end_time: \n",
    "                        t = time_yester(t)\n",
    "                    if t != end_time:\n",
    "                        wave_day_list.append(stock_data[\"stock_wave\"][t])               \n",
    "            same_date = i\n",
    "            same_date_list = [ ]\n",
    "            same_date_list.append(pred_probas[count_i])\n",
    "        else:\n",
    "             same_date_list.append(pred_probas[count_i])\n",
    "        count_i += 1\n",
    "        \n",
    "    mood_day_list = np.array(mood_day_list)\n",
    "    wave_day_list = np.array(wave_day_list)\n",
    "    mood_day_list_dir = np.concatenate((mood_day_list_dir,mood_day_list),axis = 0)\n",
    "    wave_day_list_dir = np.concatenate((wave_day_list_dir,wave_day_list),axis = 0)\n",
    " "
   ]
  },
  {
   "cell_type": "code",
   "execution_count": 85,
   "metadata": {},
   "outputs": [
    {
     "name": "stdout",
     "output_type": "stream",
     "text": [
      "908\n"
     ]
    }
   ],
   "source": [
    "print len(a)"
   ]
  },
  {
   "cell_type": "code",
   "execution_count": 86,
   "metadata": {},
   "outputs": [
    {
     "name": "stdout",
     "output_type": "stream",
     "text": [
      "1131\n",
      "1131\n",
      "Test Accuracy: 0.48\n"
     ]
    },
    {
     "data": {
      "image/png": "[encoded data removed]",
      "text/plain": [
       "<matplotlib.figure.Figure at 0x7fe21687c410>"
      ]
     },
     "metadata": {},
     "output_type": "display_data"
    },
    {
     "data": {
      "text/plain": [
       "['Classifier_wave.pkl']"
      ]
     },
     "execution_count": 86,
     "metadata": {},
     "output_type": "execute_result"
    }
   ],
   "source": [
    "# \"\"\"\n",
    "# 2.1 SVM (RBF)\n",
    "#     using training data with 100 dimensions\n",
    "# \"\"\"\n",
    "\n",
    "mood_day_list_dir_tra = []\n",
    "for i in mood_day_list_dir:\n",
    "    mood_day_list_dir_tra.append([i])\n",
    "X_reduced_train_num = int(0.8*len(mood_day_list_dir_tra))\n",
    "y_reduced_train_num = int(0.8*len(wave_day_list_dir))\n",
    "\n",
    "X_reduced_train = mood_day_list_dir_tra[:]\n",
    "y_reduced_train = wave_day_list_dir[:]\n",
    "X_reduced_test = mood_day_list_dir_tra[X_reduced_train_num:]\n",
    "y_reduced_test = wave_day_list_dir[y_reduced_train_num:]\n",
    "\n",
    "print len(X_reduced_train)\n",
    "print len(y_reduced_train)\n",
    "\n",
    "clf = SVC(C = 2, probability = True)\n",
    "clf.fit(X_reduced_train, y_reduced_train)\n",
    "\n",
    "print 'Test Accuracy: %.2f'% clf.score(X_reduced_test, y_reduced_test)\n",
    "\n",
    "pred_probas = clf.predict_proba(X_reduced_test)[:,1]\n",
    "# print \"KS value: %f\" % KSmetric(y_reduced_test, pred_probas)[0]\n",
    "\n",
    "# plot ROC curve\n",
    "# AUC = 0.92\n",
    "# KS = 0.7\n",
    "fpr,tpr,_ = roc_curve(y_reduced_test, pred_probas)\n",
    "roc_auc = auc(fpr,tpr)\n",
    "plt.plot(fpr, tpr, label = 'area = %.2f' % roc_auc)\n",
    "plt.plot([0, 1], [0, 1], 'k--')\n",
    "plt.xlim([0.0, 1.0])\n",
    "plt.ylim([0.0, 1.05])\n",
    "plt.legend(loc = 'lower right')\n",
    "plt.show()\n",
    "\n",
    "from sklearn.externals import joblib\n",
    "\n",
    "# save classifier\n",
    "joblib.dump(clf, \"Classifier_wave.pkl\")\n",
    "# load classifier\n",
    "# clf = joblib.load(\"Classifier_mood.pkl\")"
   ]
  },
  {
   "cell_type": "code",
   "execution_count": 20,
   "metadata": {},
   "outputs": [
    {
     "name": "stdout",
     "output_type": "stream",
     "text": [
      "72\n",
      "72\n",
      "0\n",
      "400\n"
     ]
    }
   ],
   "source": []
  },
  {
   "cell_type": "code",
   "execution_count": 21,
   "metadata": {
    "collapsed": true
   },
   "outputs": [],
   "source": [
    "\n"
   ]
  },
  {
   "cell_type": "code",
   "execution_count": 32,
   "metadata": {},
   "outputs": [
    {
     "name": "stdout",
     "output_type": "stream",
     "text": [
      "2017-01-02\n",
      "661\n",
      "661\n",
      "936\n"
     ]
    }
   ],
   "source": [
    "\n",
    "            "
   ]
  },
  {
   "cell_type": "code",
   "execution_count": 40,
   "metadata": {},
   "outputs": [
    {
     "name": "stdout",
     "output_type": "stream",
     "text": [
      "661\n",
      "661\n"
     ]
    }
   ],
   "source": [
    "# pca=PCA(n_components=100)\n",
    "# X = np.array(X_xueqiu)\n",
    "# X = scale(X)\n",
    "# pca.fit(X)\n",
    "# plt.figure(1, figsize=(4, 3))\n",
    "# plt.clf()\n",
    "# plt.axes([.2, .2, .7, .7])\n",
    "# plt.plot(pca.explained_variance_, linewidth=2)\n",
    "# plt.axis('tight')\n",
    "# plt.xlabel('n_components')\n",
    "# plt.ylabel('explained_variance_')\n",
    "# plt.show()\n",
    "\n",
    "# X_xueqiu_reduced = PCA(n_components = 20).fit_transform(X)\n",
    "\n",
    "# print \"KS value: %f\" % KSmetric(y_reduced_test, pred_probas)[0]\n",
    "\n",
    "# plot ROC curve\n",
    "# AUC = 0.92\n",
    "# KS = 0.7\n",
    "\n",
    "# fpr,tpr,_ = roc_curve(y_xueqiu, pred_probas)\n",
    "# roc_auc = auc(fpr,tpr)\n",
    "# plt.plot(fpr, tpr, label = 'area = %.2f' % roc_auc)\n",
    "# plt.plot([0, 1], [0, 1], 'k--')\n",
    "# plt.xlim([0.0, 1.0])\n",
    "# plt.ylim([0.0, 1.05])\n",
    "# plt.legend(loc = 'lower right')\n",
    "# plt.show()\n",
    "\n",
    "# joblib.dump(clf, \"SVC.pkl\")"
   ]
  },
  {
   "cell_type": "code",
   "execution_count": 46,
   "metadata": {},
   "outputs": [
    {
     "name": "stdout",
     "output_type": "stream",
     "text": [
      "83\n",
      "83\n"
     ]
    }
   ],
   "source": [
    "# print pred_probas\n",
    "# print time_date[0:30]\n",
    "# print get_time_list_order(time_date)\n",
    "\n",
    "        \n",
    "\n",
    "            "
   ]
  },
  {
   "cell_type": "code",
   "execution_count": null,
   "metadata": {
    "collapsed": true
   },
   "outputs": [],
   "source": [
    "np.array"
   ]
  }
 ],
 "metadata": {
  "kernelspec": {
   "display_name": "Python 2",
   "language": "python",
   "name": "python2"
  },
  "language_info": {
   "codemirror_mode": {
    "name": "ipython",
    "version": 2
   },
   "file_extension": ".py",
   "mimetype": "text/x-python",
   "name": "python",
   "nbconvert_exporter": "python",
   "pygments_lexer": "ipython2",
   "version": "2.7.12"
  }
 },
 "nbformat": 4,
 "nbformat_minor": 2
}
