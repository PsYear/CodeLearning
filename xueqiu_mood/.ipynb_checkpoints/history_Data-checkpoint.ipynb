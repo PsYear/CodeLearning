{
 "cells": [
  {
   "cell_type": "code",
   "execution_count": null,
   "metadata": {},
   "outputs": [],
   "source": [
    "import tushare as ts\n",
    "comment_path = \"./comment_part/\"\n",
    "import os\n",
    "import re\n",
    "import codecs\n",
    "fileDir = os.listdir(comment_path)\n",
    "\n",
    "for filename_fileDir in fileDir:\n",
    "    stock_name = filename_fileDir[-10:-4]\n",
    "    print stock_name\n",
    "    stock_data[\"stock_name\"] = ts.get_hist_data(stock_name,start=\"2016-4-01\",end=\"2017-5-01\")"
   ]
  }
 ],
 "metadata": {
  "kernelspec": {
   "display_name": "Python 2",
   "language": "python",
   "name": "python2"
  },
  "language_info": {
   "codemirror_mode": {
    "name": "ipython",
    "version": 2
   },
   "file_extension": ".py",
   "mimetype": "text/x-python",
   "name": "python",
   "nbconvert_exporter": "python",
   "pygments_lexer": "ipython2",
   "version": "2.7.12"
  }
 },
 "nbformat": 4,
 "nbformat_minor": 2
}
