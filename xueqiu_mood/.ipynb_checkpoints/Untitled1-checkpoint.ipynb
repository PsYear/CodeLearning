{
 "cells": [
  {
   "cell_type": "code",
   "execution_count": null,
   "metadata": {},
   "outputs": [],
   "source": [
    "import requests\n",
    "\n",
    "    # 要访问的目标页面\n",
    "targetUrl = \"http://test.abuyun.com/proxy.php\"\n",
    "\n",
    "    # 代理服务器\n",
    "proxyHost = \"proxy.abuyun.com\"\n",
    "proxyPort = \"9020\"\n",
    "\n",
    "    # 代理隧道验证信息\n",
    "proxyUser = \"H5B056H1985G2R8D\"\n",
    "proxyPass = \"490F2AC11ABD9973\"\n",
    "\n",
    "proxyMeta = \"http://%(user)s:%(pass)s@%(host)s:%(port)s\" % {\n",
    "    \"host\" : proxyHost,\n",
    "    \"port\" : proxyPort,\n",
    "    \"user\" : proxyUser,\n",
    "    \"pass\" : proxyPass,\n",
    "}\n",
    "\n",
    "proxies = {\n",
    "    \"http\"  : proxyMeta,\n",
    "    \"https\" : proxyMeta,\n",
    " }\n",
    "\n",
    "resp = requests.get(targetUrl, proxies=proxies)\n",
    "\n",
    "print resp.status_code\n",
    "print resp.text       "
   ]
  }
 ],
 "metadata": {
  "kernelspec": {
   "display_name": "Python 2",
   "language": "python",
   "name": "python2"
  },
  "language_info": {
   "codemirror_mode": {
    "name": "ipython",
    "version": 2
   },
   "file_extension": ".py",
   "mimetype": "text/x-python",
   "name": "python",
   "nbconvert_exporter": "python",
   "pygments_lexer": "ipython2",
   "version": "2.7.12"
  }
 },
 "nbformat": 4,
 "nbformat_minor": 2
}
