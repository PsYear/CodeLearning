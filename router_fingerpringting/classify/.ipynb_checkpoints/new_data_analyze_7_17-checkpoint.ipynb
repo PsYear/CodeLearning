{
 "cells": [
  {
   "cell_type": "code",
   "execution_count": 26,
   "metadata": {
    "collapsed": true
   },
   "outputs": [],
   "source": [
    "import os\n",
    "import time"
   ]
  },
  {
   "cell_type": "code",
   "execution_count": 88,
   "metadata": {},
   "outputs": [],
   "source": [
    "WIN_WSL_PATH = '/home/wendell/git_wsl/CodeLearning/router_fingerpringting/classify/'\n",
    "band_name_set=['xiaomi','xunjie','tplink_4f10','tplink_fe1c1a','XJTUWlan']\n",
    "def choice_file_re_new(filepath_arp_set,band_name_set):\n",
    "        len_band_name_set = len(band_name_set)\n",
    "        for i in range(len_band_name_set):\n",
    "                for j in range(i+1,len_band_name_set):\n",
    "                        arp_file_list=[]\n",
    "                        icmp_file_list = []\n",
    "                        for band_name in [band_name_set[j],band_name_set[i]]:\n",
    "                                dir_path = filepath_arp_set+band_name\n",
    "                                for data_file in os.listdir(dir_path):\n",
    "                                        if data_file[0:3]=='arp':\n",
    "                                                arp_file_list.append(dir_path+'/'+data_file)\n",
    "                                        elif data_file[0:4]=='icmp':\n",
    "                                                icmp_file_list.append(dir_path+'/'+data_file)\n",
    "                        print(arp_file_list)\n",
    "                        print(icmp_file_list)\n",
    "                        "
   ]
  },
  {
   "cell_type": "code",
   "execution_count": 95,
   "metadata": {},
   "outputs": [],
   "source": [
    "# choice_file_re_new(WIN_WSL_PATH,band_name_set)"
   ]
  },
  {
   "cell_type": "code",
   "execution_count": 90,
   "metadata": {},
   "outputs": [],
   "source": [
    "def choice_file_re(filepath_arp_set,filepath_icmp_set):\n",
    "        dic_num_route = [[[0,1,2],[0,1]],[[3,4],[4]],[[5,6],[2,3]],[[7],[5,6]],[[8],[7]]]\n",
    "        for i in range(5):\n",
    "            for j in range(i+1,5):\n",
    "                icmp_set_set = []\n",
    "                arp_set_set = []\n",
    "                list_num = [dic_num_route[j],dic_num_route[i]]\n",
    "#                 print(list_num)\n",
    "                for k in range(2):\n",
    "                    for ii in list_num[k][0]:\n",
    "                        arp_set_set.append(filepath_arp_set[ii])\n",
    "#                         print(filepath_arp_set[ii][81:92])\t# 显示路由器型号\n",
    "                    for jj in list_num[k][1]:\t\n",
    "                        icmp_set_set.append(filepath_icmp_set[jj])\n",
    "                print(icmp_set_set)\n",
    "                print(arp_set_set)"
   ]
  },
  {
   "cell_type": "code",
   "execution_count": 80,
   "metadata": {},
   "outputs": [],
   "source": [
    "win_wsl_path = '/home/wendell/git_wsl/CodeLearning/router_fingerpringting/classify/'\n",
    "filepath_arp_set_before = [\n",
    "\"xiaomi/arp_data.txt\",\n",
    "\"xiaomi/arp_data_1.txt\",\n",
    "\"xiaomi/arp_data_2.txt\",\n",
    "\"XJTUWlan/arp_data.txt\",\n",
    "\"XJTUWlan/arp_data_1.txt\",\n",
    "\"xunjie/arp_data.txt\",\n",
    "\"xunjie/arp_data_1.txt\",\n",
    "\"tplink_4f10/arp_data_1.txt\",\n",
    "\"tplink_fe1c1a/arp_data_1.txt\"\n",
    "]\n",
    "filepath_icmp_set_before = [\n",
    "\"xiaomi/icmp_data.txt\",\n",
    "\"xiaomi/icmp_data_1.txt\",\n",
    "\"xunjie/icmp_data.txt\",\n",
    "\"xunjie/icmp_data_1.txt\",\n",
    "\"XJTUWlan/icmp_data_1.txt\",\n",
    "\"tplink_4f10/icmp_data_1.txt\",\n",
    "\"tplink_4f10/icmp_data_2.txt\",\n",
    "\"tplink_fe1c1a/icmp_data_1.txt\"\n",
    "]\n",
    "def filepath_after(os, file):\n",
    "\tfile_ppath = []\n",
    "\tfor i in file:\n",
    "\t\tfile_ppath.append(os+i)\n",
    "\treturn file_ppath\n",
    "filepath_arp_set = filepath_after(win_wsl_path, filepath_arp_set_before)\n",
    "filepath_icmp_set = filepath_after(win_wsl_path, filepath_icmp_set_before)"
   ]
  },
  {
   "cell_type": "code",
   "execution_count": 92,
   "metadata": {},
   "outputs": [],
   "source": [
    "# choice_file_re(filepath_arp_set,filepath_icmp_set)"
   ]
  },
  {
   "cell_type": "code",
   "execution_count": null,
   "metadata": {},
   "outputs": [],
   "source": []
  },
  {
   "cell_type": "code",
   "execution_count": null,
   "metadata": {
    "collapsed": true
   },
   "outputs": [],
   "source": []
  }
 ],
 "metadata": {
  "kernelspec": {
   "display_name": "Python 3",
   "language": "python",
   "name": "python3"
  },
  "language_info": {
   "codemirror_mode": {
    "name": "ipython",
    "version": 3
   },
   "file_extension": ".py",
   "mimetype": "text/x-python",
   "name": "python",
   "nbconvert_exporter": "python",
   "pygments_lexer": "ipython3",
   "version": "3.5.2"
  }
 },
 "nbformat": 4,
 "nbformat_minor": 2
}
